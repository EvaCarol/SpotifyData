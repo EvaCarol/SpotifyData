{
  "cells": [
    {
      "cell_type": "markdown",
      "metadata": {
        "id": "view-in-github",
        "colab_type": "text"
      },
      "source": [
        "<a href=\"https://colab.research.google.com/github/EvaCarol/SpotifyData/blob/main/spotify_dashboard_upload_manual.ipynb\" target=\"_parent\"><img src=\"https://colab.research.google.com/assets/colab-badge.svg\" alt=\"Open In Colab\"/></a>"
      ]
    },
    {
      "cell_type": "markdown",
      "metadata": {
        "id": "wWt3xu7HslB9"
      },
      "source": [
        "# 🎧 Spotify Top Hits (2000–2019) – Dashboard Exploratório\n",
        "Este notebook explora o dataset com as músicas mais populares do Spotify entre 2000 e 2019, fornecendo visualizações e análises úteis para entender os padrões musicais ao longo do tempo."
      ],
      "id": "wWt3xu7HslB9"
    },
    {
      "cell_type": "code",
      "execution_count": null,
      "metadata": {
        "id": "7tiCkGuNslB_"
      },
      "outputs": [],
      "source": [
        "# Instalar bibliotecas necessárias\n",
        "!pip install pandas matplotlib seaborn"
      ],
      "id": "7tiCkGuNslB_"
    },
    {
      "cell_type": "code",
      "execution_count": null,
      "metadata": {
        "id": "JxQGrjDislCA"
      },
      "outputs": [],
      "source": [
        "# Importar bibliotecas\n",
        "import pandas as pd\n",
        "import matplotlib.pyplot as plt\n",
        "import seaborn as sns"
      ],
      "id": "JxQGrjDislCA"
    },
    {
      "cell_type": "code",
      "execution_count": null,
      "metadata": {
        "id": "g4eaKsH8slCA"
      },
      "outputs": [],
      "source": [
        "# Fazer upload do arquivo CSV\n",
        "from google.colab import files\n",
        "uploaded = files.upload()"
      ],
      "id": "g4eaKsH8slCA"
    },
    {
      "cell_type": "code",
      "execution_count": null,
      "metadata": {
        "id": "o_7V4RiPslCA"
      },
      "outputs": [],
      "source": [
        "# Carregar o dataset\n",
        "df = pd.read_csv(\"kagglespotify.zip\", encoding=\"ISO-8859-1\")\n",
        "df.head()"
      ],
      "id": "o_7V4RiPslCA"
    },
    {
      "cell_type": "markdown",
      "metadata": {
        "id": "824f_e-RslCA"
      },
      "source": [
        "## 🔍 Informações gerais do dataset"
      ],
      "id": "824f_e-RslCA"
    },
    {
      "cell_type": "code",
      "execution_count": 7,
      "metadata": {
        "colab": {
          "base_uri": "https://localhost:8080/"
        },
        "id": "bU8HCCwTslCB",
        "outputId": "04d8e8fd-cc71-4703-aca7-8d3d2f5273ff"
      },
      "outputs": [
        {
          "output_type": "stream",
          "name": "stdout",
          "text": [
            "Formato do dataset: (2000, 18)\n",
            "\n",
            "Colunas disponíveis: Index(['artist', 'song', 'duration_ms', 'explicit', 'year', 'popularity',\n",
            "       'danceability', 'energy', 'key', 'loudness', 'mode', 'speechiness',\n",
            "       'acousticness', 'instrumentalness', 'liveness', 'valence', 'tempo',\n",
            "       'genre'],\n",
            "      dtype='object')\n",
            "\n",
            "Informações gerais:\n",
            "<class 'pandas.core.frame.DataFrame'>\n",
            "RangeIndex: 2000 entries, 0 to 1999\n",
            "Data columns (total 18 columns):\n",
            " #   Column            Non-Null Count  Dtype  \n",
            "---  ------            --------------  -----  \n",
            " 0   artist            2000 non-null   object \n",
            " 1   song              2000 non-null   object \n",
            " 2   duration_ms       2000 non-null   int64  \n",
            " 3   explicit          2000 non-null   bool   \n",
            " 4   year              2000 non-null   int64  \n",
            " 5   popularity        2000 non-null   int64  \n",
            " 6   danceability      2000 non-null   float64\n",
            " 7   energy            2000 non-null   float64\n",
            " 8   key               2000 non-null   int64  \n",
            " 9   loudness          2000 non-null   float64\n",
            " 10  mode              2000 non-null   int64  \n",
            " 11  speechiness       2000 non-null   float64\n",
            " 12  acousticness      2000 non-null   float64\n",
            " 13  instrumentalness  2000 non-null   float64\n",
            " 14  liveness          2000 non-null   float64\n",
            " 15  valence           2000 non-null   float64\n",
            " 16  tempo             2000 non-null   float64\n",
            " 17  genre             2000 non-null   object \n",
            "dtypes: bool(1), float64(9), int64(5), object(3)\n",
            "memory usage: 267.7+ KB\n",
            "None\n"
          ]
        }
      ],
      "source": [
        "sns.set(style=\"whitegrid\")\n",
        "print(\"Formato do dataset:\", df.shape)\n",
        "print(\"\\nColunas disponíveis:\", df.columns)\n",
        "print(\"\\nInformações gerais:\")\n",
        "print(df.info())"
      ],
      "id": "bU8HCCwTslCB"
    },
    {
      "cell_type": "markdown",
      "metadata": {
        "id": "UrG-GE8RslCB"
      },
      "source": [
        "## 🎵 Gêneros Mais Populares"
      ],
      "id": "UrG-GE8RslCB"
    },
    {
      "cell_type": "code",
      "execution_count": 8,
      "metadata": {
        "colab": {
          "base_uri": "https://localhost:8080/",
          "height": 564
        },
        "id": "j7uDUGeBslCB",
        "outputId": "0d79f6ad-a331-4f8e-a0e7-9eb7536b4088"
      },
      "outputs": [
        {
          "output_type": "error",
          "ename": "KeyError",
          "evalue": "'Genre'",
          "traceback": [
            "\u001b[0;31m---------------------------------------------------------------------------\u001b[0m",
            "\u001b[0;31mKeyError\u001b[0m                                  Traceback (most recent call last)",
            "\u001b[0;32m/usr/local/lib/python3.11/dist-packages/pandas/core/indexes/base.py\u001b[0m in \u001b[0;36mget_loc\u001b[0;34m(self, key)\u001b[0m\n\u001b[1;32m   3804\u001b[0m         \u001b[0;32mtry\u001b[0m\u001b[0;34m:\u001b[0m\u001b[0;34m\u001b[0m\u001b[0;34m\u001b[0m\u001b[0m\n\u001b[0;32m-> 3805\u001b[0;31m             \u001b[0;32mreturn\u001b[0m \u001b[0mself\u001b[0m\u001b[0;34m.\u001b[0m\u001b[0m_engine\u001b[0m\u001b[0;34m.\u001b[0m\u001b[0mget_loc\u001b[0m\u001b[0;34m(\u001b[0m\u001b[0mcasted_key\u001b[0m\u001b[0;34m)\u001b[0m\u001b[0;34m\u001b[0m\u001b[0;34m\u001b[0m\u001b[0m\n\u001b[0m\u001b[1;32m   3806\u001b[0m         \u001b[0;32mexcept\u001b[0m \u001b[0mKeyError\u001b[0m \u001b[0;32mas\u001b[0m \u001b[0merr\u001b[0m\u001b[0;34m:\u001b[0m\u001b[0;34m\u001b[0m\u001b[0;34m\u001b[0m\u001b[0m\n",
            "\u001b[0;32mindex.pyx\u001b[0m in \u001b[0;36mpandas._libs.index.IndexEngine.get_loc\u001b[0;34m()\u001b[0m\n",
            "\u001b[0;32mindex.pyx\u001b[0m in \u001b[0;36mpandas._libs.index.IndexEngine.get_loc\u001b[0;34m()\u001b[0m\n",
            "\u001b[0;32mpandas/_libs/hashtable_class_helper.pxi\u001b[0m in \u001b[0;36mpandas._libs.hashtable.PyObjectHashTable.get_item\u001b[0;34m()\u001b[0m\n",
            "\u001b[0;32mpandas/_libs/hashtable_class_helper.pxi\u001b[0m in \u001b[0;36mpandas._libs.hashtable.PyObjectHashTable.get_item\u001b[0;34m()\u001b[0m\n",
            "\u001b[0;31mKeyError\u001b[0m: 'Genre'",
            "\nThe above exception was the direct cause of the following exception:\n",
            "\u001b[0;31mKeyError\u001b[0m                                  Traceback (most recent call last)",
            "\u001b[0;32m<ipython-input-8-4b333ef00d1a>\u001b[0m in \u001b[0;36m<cell line: 0>\u001b[0;34m()\u001b[0m\n\u001b[1;32m      1\u001b[0m \u001b[0mplt\u001b[0m\u001b[0;34m.\u001b[0m\u001b[0mfigure\u001b[0m\u001b[0;34m(\u001b[0m\u001b[0mfigsize\u001b[0m\u001b[0;34m=\u001b[0m\u001b[0;34m(\u001b[0m\u001b[0;36m12\u001b[0m\u001b[0;34m,\u001b[0m\u001b[0;36m6\u001b[0m\u001b[0;34m)\u001b[0m\u001b[0;34m)\u001b[0m\u001b[0;34m\u001b[0m\u001b[0;34m\u001b[0m\u001b[0m\n\u001b[0;32m----> 2\u001b[0;31m \u001b[0msns\u001b[0m\u001b[0;34m.\u001b[0m\u001b[0mcountplot\u001b[0m\u001b[0;34m(\u001b[0m\u001b[0mdata\u001b[0m\u001b[0;34m=\u001b[0m\u001b[0mdf\u001b[0m\u001b[0;34m,\u001b[0m \u001b[0my\u001b[0m\u001b[0;34m=\u001b[0m\u001b[0;34m\"Genre\"\u001b[0m\u001b[0;34m,\u001b[0m \u001b[0morder\u001b[0m\u001b[0;34m=\u001b[0m\u001b[0mdf\u001b[0m\u001b[0;34m[\u001b[0m\u001b[0;34m\"Genre\"\u001b[0m\u001b[0;34m]\u001b[0m\u001b[0;34m.\u001b[0m\u001b[0mvalue_counts\u001b[0m\u001b[0;34m(\u001b[0m\u001b[0;34m)\u001b[0m\u001b[0;34m.\u001b[0m\u001b[0mindex\u001b[0m\u001b[0;34m)\u001b[0m\u001b[0;34m\u001b[0m\u001b[0;34m\u001b[0m\u001b[0m\n\u001b[0m\u001b[1;32m      3\u001b[0m \u001b[0mplt\u001b[0m\u001b[0;34m.\u001b[0m\u001b[0mtitle\u001b[0m\u001b[0;34m(\u001b[0m\u001b[0;34m\"🎶 Gêneros Mais Populares (2000-2019)\"\u001b[0m\u001b[0;34m)\u001b[0m\u001b[0;34m\u001b[0m\u001b[0;34m\u001b[0m\u001b[0m\n\u001b[1;32m      4\u001b[0m \u001b[0mplt\u001b[0m\u001b[0;34m.\u001b[0m\u001b[0mxlabel\u001b[0m\u001b[0;34m(\u001b[0m\u001b[0;34m\"Número de Músicas\"\u001b[0m\u001b[0;34m)\u001b[0m\u001b[0;34m\u001b[0m\u001b[0;34m\u001b[0m\u001b[0m\n\u001b[1;32m      5\u001b[0m \u001b[0mplt\u001b[0m\u001b[0;34m.\u001b[0m\u001b[0mylabel\u001b[0m\u001b[0;34m(\u001b[0m\u001b[0;34m\"Gênero\"\u001b[0m\u001b[0;34m)\u001b[0m\u001b[0;34m\u001b[0m\u001b[0;34m\u001b[0m\u001b[0m\n",
            "\u001b[0;32m/usr/local/lib/python3.11/dist-packages/pandas/core/frame.py\u001b[0m in \u001b[0;36m__getitem__\u001b[0;34m(self, key)\u001b[0m\n\u001b[1;32m   4100\u001b[0m             \u001b[0;32mif\u001b[0m \u001b[0mself\u001b[0m\u001b[0;34m.\u001b[0m\u001b[0mcolumns\u001b[0m\u001b[0;34m.\u001b[0m\u001b[0mnlevels\u001b[0m \u001b[0;34m>\u001b[0m \u001b[0;36m1\u001b[0m\u001b[0;34m:\u001b[0m\u001b[0;34m\u001b[0m\u001b[0;34m\u001b[0m\u001b[0m\n\u001b[1;32m   4101\u001b[0m                 \u001b[0;32mreturn\u001b[0m \u001b[0mself\u001b[0m\u001b[0;34m.\u001b[0m\u001b[0m_getitem_multilevel\u001b[0m\u001b[0;34m(\u001b[0m\u001b[0mkey\u001b[0m\u001b[0;34m)\u001b[0m\u001b[0;34m\u001b[0m\u001b[0;34m\u001b[0m\u001b[0m\n\u001b[0;32m-> 4102\u001b[0;31m             \u001b[0mindexer\u001b[0m \u001b[0;34m=\u001b[0m \u001b[0mself\u001b[0m\u001b[0;34m.\u001b[0m\u001b[0mcolumns\u001b[0m\u001b[0;34m.\u001b[0m\u001b[0mget_loc\u001b[0m\u001b[0;34m(\u001b[0m\u001b[0mkey\u001b[0m\u001b[0;34m)\u001b[0m\u001b[0;34m\u001b[0m\u001b[0;34m\u001b[0m\u001b[0m\n\u001b[0m\u001b[1;32m   4103\u001b[0m             \u001b[0;32mif\u001b[0m \u001b[0mis_integer\u001b[0m\u001b[0;34m(\u001b[0m\u001b[0mindexer\u001b[0m\u001b[0;34m)\u001b[0m\u001b[0;34m:\u001b[0m\u001b[0;34m\u001b[0m\u001b[0;34m\u001b[0m\u001b[0m\n\u001b[1;32m   4104\u001b[0m                 \u001b[0mindexer\u001b[0m \u001b[0;34m=\u001b[0m \u001b[0;34m[\u001b[0m\u001b[0mindexer\u001b[0m\u001b[0;34m]\u001b[0m\u001b[0;34m\u001b[0m\u001b[0;34m\u001b[0m\u001b[0m\n",
            "\u001b[0;32m/usr/local/lib/python3.11/dist-packages/pandas/core/indexes/base.py\u001b[0m in \u001b[0;36mget_loc\u001b[0;34m(self, key)\u001b[0m\n\u001b[1;32m   3810\u001b[0m             ):\n\u001b[1;32m   3811\u001b[0m                 \u001b[0;32mraise\u001b[0m \u001b[0mInvalidIndexError\u001b[0m\u001b[0;34m(\u001b[0m\u001b[0mkey\u001b[0m\u001b[0;34m)\u001b[0m\u001b[0;34m\u001b[0m\u001b[0;34m\u001b[0m\u001b[0m\n\u001b[0;32m-> 3812\u001b[0;31m             \u001b[0;32mraise\u001b[0m \u001b[0mKeyError\u001b[0m\u001b[0;34m(\u001b[0m\u001b[0mkey\u001b[0m\u001b[0;34m)\u001b[0m \u001b[0;32mfrom\u001b[0m \u001b[0merr\u001b[0m\u001b[0;34m\u001b[0m\u001b[0;34m\u001b[0m\u001b[0m\n\u001b[0m\u001b[1;32m   3813\u001b[0m         \u001b[0;32mexcept\u001b[0m \u001b[0mTypeError\u001b[0m\u001b[0;34m:\u001b[0m\u001b[0;34m\u001b[0m\u001b[0;34m\u001b[0m\u001b[0m\n\u001b[1;32m   3814\u001b[0m             \u001b[0;31m# If we have a listlike key, _check_indexing_error will raise\u001b[0m\u001b[0;34m\u001b[0m\u001b[0;34m\u001b[0m\u001b[0m\n",
            "\u001b[0;31mKeyError\u001b[0m: 'Genre'"
          ]
        },
        {
          "output_type": "display_data",
          "data": {
            "text/plain": [
              "<Figure size 1200x600 with 0 Axes>"
            ]
          },
          "metadata": {}
        }
      ],
      "source": [
        "plt.figure(figsize=(12,6))\n",
        "sns.countplot(data=df, y=\"Genre\", order=df[\"Genre\"].value_counts().index)\n",
        "plt.title(\"🎶 Gêneros Mais Populares (2000-2019)\")\n",
        "plt.xlabel(\"Número de Músicas\")\n",
        "plt.ylabel(\"Gênero\")\n",
        "plt.show()"
      ],
      "id": "j7uDUGeBslCB"
    },
    {
      "cell_type": "markdown",
      "metadata": {
        "id": "2JSbgXLyslCB"
      },
      "source": [
        "## 📈 Número de Músicas por Ano"
      ],
      "id": "2JSbgXLyslCB"
    },
    {
      "cell_type": "code",
      "execution_count": null,
      "metadata": {
        "id": "JPqXxvsJslCB"
      },
      "outputs": [],
      "source": [
        "plt.figure(figsize=(10,5))\n",
        "sns.histplot(data=df, x=\"Year\", bins=20, kde=False)\n",
        "plt.title(\"📅 Número de Músicas por Ano\")\n",
        "plt.xlabel(\"Ano\")\n",
        "plt.ylabel(\"Quantidade de Músicas\")\n",
        "plt.xticks(rotation=45)\n",
        "plt.show()"
      ],
      "id": "JPqXxvsJslCB"
    },
    {
      "cell_type": "markdown",
      "metadata": {
        "id": "Qch-Gb3gslCB"
      },
      "source": [
        "## 👨‍🎤 Artistas com Mais Músicas"
      ],
      "id": "Qch-Gb3gslCB"
    },
    {
      "cell_type": "code",
      "execution_count": null,
      "metadata": {
        "id": "TbVTE6C2slCB"
      },
      "outputs": [],
      "source": [
        "top_artists = df['Artist.Name'].value_counts().head(10)\n",
        "\n",
        "plt.figure(figsize=(12,6))\n",
        "sns.barplot(x=top_artists.values, y=top_artists.index)\n",
        "plt.title(\"👨‍🎤 Artistas com Mais Músicas no Top 50 (2000–2019)\")\n",
        "plt.xlabel(\"Número de Músicas\")\n",
        "plt.ylabel(\"Artista\")\n",
        "plt.show()"
      ],
      "id": "TbVTE6C2slCB"
    },
    {
      "cell_type": "markdown",
      "metadata": {
        "id": "wxRFuE3fslCC"
      },
      "source": [
        "## 🎧 Artistas Mais Ouvintes (Popularidade Média)"
      ],
      "id": "wxRFuE3fslCC"
    },
    {
      "cell_type": "code",
      "execution_count": null,
      "metadata": {
        "id": "n-5QQnoxslCC"
      },
      "outputs": [],
      "source": [
        "top_listened = df.groupby(\"Artist.Name\")[\"Popularity\"].mean().sort_values(ascending=False).head(10)\n",
        "\n",
        "plt.figure(figsize=(12,6))\n",
        "sns.barplot(x=top_listened.values, y=top_listened.index)\n",
        "plt.title(\"🎧 Artistas Mais Ouvintes (Popularidade Média)\")\n",
        "plt.xlabel(\"Popularidade Média\")\n",
        "plt.ylabel(\"Artista\")\n",
        "plt.show()"
      ],
      "id": "n-5QQnoxslCC"
    },
    {
      "cell_type": "markdown",
      "metadata": {
        "id": "Oumz-fYRslCC"
      },
      "source": [
        "## 🔁 Correlação entre Variáveis Numéricas"
      ],
      "id": "Oumz-fYRslCC"
    },
    {
      "cell_type": "code",
      "execution_count": null,
      "metadata": {
        "id": "FLdTmnLVslCC"
      },
      "outputs": [],
      "source": [
        "plt.figure(figsize=(8,6))\n",
        "sns.heatmap(df.select_dtypes(include='number').corr(), annot=True, cmap=\"YlGnBu\")\n",
        "plt.title(\"🔗 Correlação entre Variáveis Numéricas\")\n",
        "plt.show()"
      ],
      "id": "FLdTmnLVslCC"
    }
  ],
  "metadata": {
    "kernelspec": {
      "display_name": "Python 3",
      "language": "python",
      "name": "python3"
    },
    "language_info": {
      "name": "python",
      "version": "3.x"
    },
    "colab": {
      "provenance": [],
      "include_colab_link": true
    }
  },
  "nbformat": 4,
  "nbformat_minor": 5
}